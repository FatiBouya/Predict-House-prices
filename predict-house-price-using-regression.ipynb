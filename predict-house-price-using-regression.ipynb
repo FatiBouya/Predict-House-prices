{
 "cells": [
  {
   "cell_type": "code",
   "execution_count": 1,
   "id": "a2840fcd",
   "metadata": {
    "_cell_guid": "b1076dfc-b9ad-4769-8c92-a6c4dae69d19",
    "_uuid": "8f2839f25d086af736a60e9eeb907d3b93b6e0e5",
    "execution": {
     "iopub.execute_input": "2024-04-22T15:02:04.758594Z",
     "iopub.status.busy": "2024-04-22T15:02:04.757802Z",
     "iopub.status.idle": "2024-04-22T15:02:05.911621Z",
     "shell.execute_reply": "2024-04-22T15:02:05.910204Z"
    },
    "papermill": {
     "duration": 1.177246,
     "end_time": "2024-04-22T15:02:05.914782",
     "exception": false,
     "start_time": "2024-04-22T15:02:04.737536",
     "status": "completed"
    },
    "tags": []
   },
   "outputs": [
    {
     "name": "stdout",
     "output_type": "stream",
     "text": [
      "/kaggle/input/housesalesprediction/kc_house_data.csv\n"
     ]
    }
   ],
   "source": [
    "# This Python 3 environment comes with many helpful analytics libraries installed\n",
    "# It is defined by the kaggle/python Docker image: https://github.com/kaggle/docker-python\n",
    "# For example, here's several helpful packages to load\n",
    "\n",
    "import numpy as np # linear algebra\n",
    "import pandas as pd # data processing, CSV file I/O (e.g. pd.read_csv)\n",
    "\n",
    "# Input data files are available in the read-only \"../input/\" directory\n",
    "# For example, running this (by clicking run or pressing Shift+Enter) will list all files under the input directory\n",
    "\n",
    "import os\n",
    "for dirname, _, filenames in os.walk('/kaggle/input'):\n",
    "    for filename in filenames:\n",
    "        print(os.path.join(dirname, filename))\n",
    "\n",
    "# You can write up to 20GB to the current directory (/kaggle/working/) that gets preserved as output when you create a version using \"Save & Run All\" \n",
    "# You can also write temporary files to /kaggle/temp/, but they won't be saved outside of the current session"
   ]
  },
  {
   "cell_type": "code",
   "execution_count": 2,
   "id": "14c26b94",
   "metadata": {
    "execution": {
     "iopub.execute_input": "2024-04-22T15:02:05.954178Z",
     "iopub.status.busy": "2024-04-22T15:02:05.953006Z",
     "iopub.status.idle": "2024-04-22T15:02:06.126493Z",
     "shell.execute_reply": "2024-04-22T15:02:06.125539Z"
    },
    "papermill": {
     "duration": 0.196311,
     "end_time": "2024-04-22T15:02:06.129071",
     "exception": false,
     "start_time": "2024-04-22T15:02:05.932760",
     "status": "completed"
    },
    "tags": []
   },
   "outputs": [
    {
     "data": {
      "text/html": [
       "<div>\n",
       "<style scoped>\n",
       "    .dataframe tbody tr th:only-of-type {\n",
       "        vertical-align: middle;\n",
       "    }\n",
       "\n",
       "    .dataframe tbody tr th {\n",
       "        vertical-align: top;\n",
       "    }\n",
       "\n",
       "    .dataframe thead th {\n",
       "        text-align: right;\n",
       "    }\n",
       "</style>\n",
       "<table border=\"1\" class=\"dataframe\">\n",
       "  <thead>\n",
       "    <tr style=\"text-align: right;\">\n",
       "      <th></th>\n",
       "      <th>id</th>\n",
       "      <th>date</th>\n",
       "      <th>price</th>\n",
       "      <th>bedrooms</th>\n",
       "      <th>bathrooms</th>\n",
       "      <th>sqft_living</th>\n",
       "      <th>sqft_lot</th>\n",
       "      <th>floors</th>\n",
       "      <th>waterfront</th>\n",
       "      <th>view</th>\n",
       "      <th>...</th>\n",
       "      <th>grade</th>\n",
       "      <th>sqft_above</th>\n",
       "      <th>sqft_basement</th>\n",
       "      <th>yr_built</th>\n",
       "      <th>yr_renovated</th>\n",
       "      <th>zipcode</th>\n",
       "      <th>lat</th>\n",
       "      <th>long</th>\n",
       "      <th>sqft_living15</th>\n",
       "      <th>sqft_lot15</th>\n",
       "    </tr>\n",
       "  </thead>\n",
       "  <tbody>\n",
       "    <tr>\n",
       "      <th>0</th>\n",
       "      <td>7129300520</td>\n",
       "      <td>20141013T000000</td>\n",
       "      <td>221900.0</td>\n",
       "      <td>3</td>\n",
       "      <td>1.00</td>\n",
       "      <td>1180</td>\n",
       "      <td>5650</td>\n",
       "      <td>1.0</td>\n",
       "      <td>0</td>\n",
       "      <td>0</td>\n",
       "      <td>...</td>\n",
       "      <td>7</td>\n",
       "      <td>1180</td>\n",
       "      <td>0</td>\n",
       "      <td>1955</td>\n",
       "      <td>0</td>\n",
       "      <td>98178</td>\n",
       "      <td>47.5112</td>\n",
       "      <td>-122.257</td>\n",
       "      <td>1340</td>\n",
       "      <td>5650</td>\n",
       "    </tr>\n",
       "    <tr>\n",
       "      <th>1</th>\n",
       "      <td>6414100192</td>\n",
       "      <td>20141209T000000</td>\n",
       "      <td>538000.0</td>\n",
       "      <td>3</td>\n",
       "      <td>2.25</td>\n",
       "      <td>2570</td>\n",
       "      <td>7242</td>\n",
       "      <td>2.0</td>\n",
       "      <td>0</td>\n",
       "      <td>0</td>\n",
       "      <td>...</td>\n",
       "      <td>7</td>\n",
       "      <td>2170</td>\n",
       "      <td>400</td>\n",
       "      <td>1951</td>\n",
       "      <td>1991</td>\n",
       "      <td>98125</td>\n",
       "      <td>47.7210</td>\n",
       "      <td>-122.319</td>\n",
       "      <td>1690</td>\n",
       "      <td>7639</td>\n",
       "    </tr>\n",
       "    <tr>\n",
       "      <th>2</th>\n",
       "      <td>5631500400</td>\n",
       "      <td>20150225T000000</td>\n",
       "      <td>180000.0</td>\n",
       "      <td>2</td>\n",
       "      <td>1.00</td>\n",
       "      <td>770</td>\n",
       "      <td>10000</td>\n",
       "      <td>1.0</td>\n",
       "      <td>0</td>\n",
       "      <td>0</td>\n",
       "      <td>...</td>\n",
       "      <td>6</td>\n",
       "      <td>770</td>\n",
       "      <td>0</td>\n",
       "      <td>1933</td>\n",
       "      <td>0</td>\n",
       "      <td>98028</td>\n",
       "      <td>47.7379</td>\n",
       "      <td>-122.233</td>\n",
       "      <td>2720</td>\n",
       "      <td>8062</td>\n",
       "    </tr>\n",
       "    <tr>\n",
       "      <th>3</th>\n",
       "      <td>2487200875</td>\n",
       "      <td>20141209T000000</td>\n",
       "      <td>604000.0</td>\n",
       "      <td>4</td>\n",
       "      <td>3.00</td>\n",
       "      <td>1960</td>\n",
       "      <td>5000</td>\n",
       "      <td>1.0</td>\n",
       "      <td>0</td>\n",
       "      <td>0</td>\n",
       "      <td>...</td>\n",
       "      <td>7</td>\n",
       "      <td>1050</td>\n",
       "      <td>910</td>\n",
       "      <td>1965</td>\n",
       "      <td>0</td>\n",
       "      <td>98136</td>\n",
       "      <td>47.5208</td>\n",
       "      <td>-122.393</td>\n",
       "      <td>1360</td>\n",
       "      <td>5000</td>\n",
       "    </tr>\n",
       "    <tr>\n",
       "      <th>4</th>\n",
       "      <td>1954400510</td>\n",
       "      <td>20150218T000000</td>\n",
       "      <td>510000.0</td>\n",
       "      <td>3</td>\n",
       "      <td>2.00</td>\n",
       "      <td>1680</td>\n",
       "      <td>8080</td>\n",
       "      <td>1.0</td>\n",
       "      <td>0</td>\n",
       "      <td>0</td>\n",
       "      <td>...</td>\n",
       "      <td>8</td>\n",
       "      <td>1680</td>\n",
       "      <td>0</td>\n",
       "      <td>1987</td>\n",
       "      <td>0</td>\n",
       "      <td>98074</td>\n",
       "      <td>47.6168</td>\n",
       "      <td>-122.045</td>\n",
       "      <td>1800</td>\n",
       "      <td>7503</td>\n",
       "    </tr>\n",
       "  </tbody>\n",
       "</table>\n",
       "<p>5 rows × 21 columns</p>\n",
       "</div>"
      ],
      "text/plain": [
       "           id             date     price  bedrooms  bathrooms  sqft_living  \\\n",
       "0  7129300520  20141013T000000  221900.0         3       1.00         1180   \n",
       "1  6414100192  20141209T000000  538000.0         3       2.25         2570   \n",
       "2  5631500400  20150225T000000  180000.0         2       1.00          770   \n",
       "3  2487200875  20141209T000000  604000.0         4       3.00         1960   \n",
       "4  1954400510  20150218T000000  510000.0         3       2.00         1680   \n",
       "\n",
       "   sqft_lot  floors  waterfront  view  ...  grade  sqft_above  sqft_basement  \\\n",
       "0      5650     1.0           0     0  ...      7        1180              0   \n",
       "1      7242     2.0           0     0  ...      7        2170            400   \n",
       "2     10000     1.0           0     0  ...      6         770              0   \n",
       "3      5000     1.0           0     0  ...      7        1050            910   \n",
       "4      8080     1.0           0     0  ...      8        1680              0   \n",
       "\n",
       "   yr_built  yr_renovated  zipcode      lat     long  sqft_living15  \\\n",
       "0      1955             0    98178  47.5112 -122.257           1340   \n",
       "1      1951          1991    98125  47.7210 -122.319           1690   \n",
       "2      1933             0    98028  47.7379 -122.233           2720   \n",
       "3      1965             0    98136  47.5208 -122.393           1360   \n",
       "4      1987             0    98074  47.6168 -122.045           1800   \n",
       "\n",
       "   sqft_lot15  \n",
       "0        5650  \n",
       "1        7639  \n",
       "2        8062  \n",
       "3        5000  \n",
       "4        7503  \n",
       "\n",
       "[5 rows x 21 columns]"
      ]
     },
     "execution_count": 2,
     "metadata": {},
     "output_type": "execute_result"
    }
   ],
   "source": [
    "df = pd.read_csv('/kaggle/input/housesalesprediction/kc_house_data.csv')\n",
    "df.head()"
   ]
  },
  {
   "cell_type": "code",
   "execution_count": 3,
   "id": "69563a82",
   "metadata": {
    "execution": {
     "iopub.execute_input": "2024-04-22T15:02:06.168706Z",
     "iopub.status.busy": "2024-04-22T15:02:06.167963Z",
     "iopub.status.idle": "2024-04-22T15:02:06.176739Z",
     "shell.execute_reply": "2024-04-22T15:02:06.175625Z"
    },
    "papermill": {
     "duration": 0.031492,
     "end_time": "2024-04-22T15:02:06.178997",
     "exception": false,
     "start_time": "2024-04-22T15:02:06.147505",
     "status": "completed"
    },
    "tags": []
   },
   "outputs": [
    {
     "data": {
      "text/plain": [
       "id                 int64\n",
       "date              object\n",
       "price            float64\n",
       "bedrooms           int64\n",
       "bathrooms        float64\n",
       "sqft_living        int64\n",
       "sqft_lot           int64\n",
       "floors           float64\n",
       "waterfront         int64\n",
       "view               int64\n",
       "condition          int64\n",
       "grade              int64\n",
       "sqft_above         int64\n",
       "sqft_basement      int64\n",
       "yr_built           int64\n",
       "yr_renovated       int64\n",
       "zipcode            int64\n",
       "lat              float64\n",
       "long             float64\n",
       "sqft_living15      int64\n",
       "sqft_lot15         int64\n",
       "dtype: object"
      ]
     },
     "execution_count": 3,
     "metadata": {},
     "output_type": "execute_result"
    }
   ],
   "source": [
    "#df.info()\n",
    "df.dtypes"
   ]
  },
  {
   "cell_type": "code",
   "execution_count": 4,
   "id": "40c8b277",
   "metadata": {
    "execution": {
     "iopub.execute_input": "2024-04-22T15:02:06.216834Z",
     "iopub.status.busy": "2024-04-22T15:02:06.216402Z",
     "iopub.status.idle": "2024-04-22T15:02:06.240893Z",
     "shell.execute_reply": "2024-04-22T15:02:06.240008Z"
    },
    "papermill": {
     "duration": 0.046897,
     "end_time": "2024-04-22T15:02:06.243695",
     "exception": false,
     "start_time": "2024-04-22T15:02:06.196798",
     "status": "completed"
    },
    "tags": []
   },
   "outputs": [],
   "source": [
    "df['date'] = pd.to_datetime(df['date'])\n"
   ]
  },
  {
   "cell_type": "code",
   "execution_count": 5,
   "id": "6fecc20a",
   "metadata": {
    "execution": {
     "iopub.execute_input": "2024-04-22T15:02:06.283052Z",
     "iopub.status.busy": "2024-04-22T15:02:06.282297Z",
     "iopub.status.idle": "2024-04-22T15:02:06.286215Z",
     "shell.execute_reply": "2024-04-22T15:02:06.285450Z"
    },
    "papermill": {
     "duration": 0.026267,
     "end_time": "2024-04-22T15:02:06.288528",
     "exception": false,
     "start_time": "2024-04-22T15:02:06.262261",
     "status": "completed"
    },
    "tags": []
   },
   "outputs": [],
   "source": [
    "#df.info()\n"
   ]
  },
  {
   "cell_type": "markdown",
   "id": "c9a64753",
   "metadata": {
    "papermill": {
     "duration": 0.018906,
     "end_time": "2024-04-22T15:02:06.326083",
     "exception": false,
     "start_time": "2024-04-22T15:02:06.307177",
     "status": "completed"
    },
    "tags": []
   },
   "source": [
    "Let's remove the columns 'id' since they do not provide any value to the models.\n"
   ]
  },
  {
   "cell_type": "code",
   "execution_count": 6,
   "id": "46f62507",
   "metadata": {
    "execution": {
     "iopub.execute_input": "2024-04-22T15:02:06.366025Z",
     "iopub.status.busy": "2024-04-22T15:02:06.365375Z",
     "iopub.status.idle": "2024-04-22T15:02:06.455794Z",
     "shell.execute_reply": "2024-04-22T15:02:06.454430Z"
    },
    "papermill": {
     "duration": 0.113367,
     "end_time": "2024-04-22T15:02:06.458788",
     "exception": false,
     "start_time": "2024-04-22T15:02:06.345421",
     "status": "completed"
    },
    "tags": []
   },
   "outputs": [
    {
     "data": {
      "text/html": [
       "<div>\n",
       "<style scoped>\n",
       "    .dataframe tbody tr th:only-of-type {\n",
       "        vertical-align: middle;\n",
       "    }\n",
       "\n",
       "    .dataframe tbody tr th {\n",
       "        vertical-align: top;\n",
       "    }\n",
       "\n",
       "    .dataframe thead th {\n",
       "        text-align: right;\n",
       "    }\n",
       "</style>\n",
       "<table border=\"1\" class=\"dataframe\">\n",
       "  <thead>\n",
       "    <tr style=\"text-align: right;\">\n",
       "      <th></th>\n",
       "      <th>date</th>\n",
       "      <th>price</th>\n",
       "      <th>bedrooms</th>\n",
       "      <th>bathrooms</th>\n",
       "      <th>sqft_living</th>\n",
       "      <th>sqft_lot</th>\n",
       "      <th>floors</th>\n",
       "      <th>waterfront</th>\n",
       "      <th>view</th>\n",
       "      <th>condition</th>\n",
       "      <th>grade</th>\n",
       "      <th>sqft_above</th>\n",
       "      <th>sqft_basement</th>\n",
       "      <th>yr_built</th>\n",
       "      <th>yr_renovated</th>\n",
       "      <th>zipcode</th>\n",
       "      <th>lat</th>\n",
       "      <th>long</th>\n",
       "      <th>sqft_living15</th>\n",
       "      <th>sqft_lot15</th>\n",
       "    </tr>\n",
       "  </thead>\n",
       "  <tbody>\n",
       "    <tr>\n",
       "      <th>count</th>\n",
       "      <td>21613</td>\n",
       "      <td>2.161300e+04</td>\n",
       "      <td>21613.000000</td>\n",
       "      <td>21613.000000</td>\n",
       "      <td>21613.000000</td>\n",
       "      <td>2.161300e+04</td>\n",
       "      <td>21613.000000</td>\n",
       "      <td>21613.000000</td>\n",
       "      <td>21613.000000</td>\n",
       "      <td>21613.000000</td>\n",
       "      <td>21613.000000</td>\n",
       "      <td>21613.000000</td>\n",
       "      <td>21613.000000</td>\n",
       "      <td>21613.000000</td>\n",
       "      <td>21613.000000</td>\n",
       "      <td>21613.000000</td>\n",
       "      <td>21613.000000</td>\n",
       "      <td>21613.000000</td>\n",
       "      <td>21613.000000</td>\n",
       "      <td>21613.000000</td>\n",
       "    </tr>\n",
       "    <tr>\n",
       "      <th>mean</th>\n",
       "      <td>2014-10-29 04:38:01.959931648</td>\n",
       "      <td>5.400881e+05</td>\n",
       "      <td>3.370842</td>\n",
       "      <td>2.114757</td>\n",
       "      <td>2079.899736</td>\n",
       "      <td>1.510697e+04</td>\n",
       "      <td>1.494309</td>\n",
       "      <td>0.007542</td>\n",
       "      <td>0.234303</td>\n",
       "      <td>3.409430</td>\n",
       "      <td>7.656873</td>\n",
       "      <td>1788.390691</td>\n",
       "      <td>291.509045</td>\n",
       "      <td>1971.005136</td>\n",
       "      <td>84.402258</td>\n",
       "      <td>98077.939805</td>\n",
       "      <td>47.560053</td>\n",
       "      <td>-122.213896</td>\n",
       "      <td>1986.552492</td>\n",
       "      <td>12768.455652</td>\n",
       "    </tr>\n",
       "    <tr>\n",
       "      <th>min</th>\n",
       "      <td>2014-05-02 00:00:00</td>\n",
       "      <td>7.500000e+04</td>\n",
       "      <td>0.000000</td>\n",
       "      <td>0.000000</td>\n",
       "      <td>290.000000</td>\n",
       "      <td>5.200000e+02</td>\n",
       "      <td>1.000000</td>\n",
       "      <td>0.000000</td>\n",
       "      <td>0.000000</td>\n",
       "      <td>1.000000</td>\n",
       "      <td>1.000000</td>\n",
       "      <td>290.000000</td>\n",
       "      <td>0.000000</td>\n",
       "      <td>1900.000000</td>\n",
       "      <td>0.000000</td>\n",
       "      <td>98001.000000</td>\n",
       "      <td>47.155900</td>\n",
       "      <td>-122.519000</td>\n",
       "      <td>399.000000</td>\n",
       "      <td>651.000000</td>\n",
       "    </tr>\n",
       "    <tr>\n",
       "      <th>25%</th>\n",
       "      <td>2014-07-22 00:00:00</td>\n",
       "      <td>3.219500e+05</td>\n",
       "      <td>3.000000</td>\n",
       "      <td>1.750000</td>\n",
       "      <td>1427.000000</td>\n",
       "      <td>5.040000e+03</td>\n",
       "      <td>1.000000</td>\n",
       "      <td>0.000000</td>\n",
       "      <td>0.000000</td>\n",
       "      <td>3.000000</td>\n",
       "      <td>7.000000</td>\n",
       "      <td>1190.000000</td>\n",
       "      <td>0.000000</td>\n",
       "      <td>1951.000000</td>\n",
       "      <td>0.000000</td>\n",
       "      <td>98033.000000</td>\n",
       "      <td>47.471000</td>\n",
       "      <td>-122.328000</td>\n",
       "      <td>1490.000000</td>\n",
       "      <td>5100.000000</td>\n",
       "    </tr>\n",
       "    <tr>\n",
       "      <th>50%</th>\n",
       "      <td>2014-10-16 00:00:00</td>\n",
       "      <td>4.500000e+05</td>\n",
       "      <td>3.000000</td>\n",
       "      <td>2.250000</td>\n",
       "      <td>1910.000000</td>\n",
       "      <td>7.618000e+03</td>\n",
       "      <td>1.500000</td>\n",
       "      <td>0.000000</td>\n",
       "      <td>0.000000</td>\n",
       "      <td>3.000000</td>\n",
       "      <td>7.000000</td>\n",
       "      <td>1560.000000</td>\n",
       "      <td>0.000000</td>\n",
       "      <td>1975.000000</td>\n",
       "      <td>0.000000</td>\n",
       "      <td>98065.000000</td>\n",
       "      <td>47.571800</td>\n",
       "      <td>-122.230000</td>\n",
       "      <td>1840.000000</td>\n",
       "      <td>7620.000000</td>\n",
       "    </tr>\n",
       "    <tr>\n",
       "      <th>75%</th>\n",
       "      <td>2015-02-17 00:00:00</td>\n",
       "      <td>6.450000e+05</td>\n",
       "      <td>4.000000</td>\n",
       "      <td>2.500000</td>\n",
       "      <td>2550.000000</td>\n",
       "      <td>1.068800e+04</td>\n",
       "      <td>2.000000</td>\n",
       "      <td>0.000000</td>\n",
       "      <td>0.000000</td>\n",
       "      <td>4.000000</td>\n",
       "      <td>8.000000</td>\n",
       "      <td>2210.000000</td>\n",
       "      <td>560.000000</td>\n",
       "      <td>1997.000000</td>\n",
       "      <td>0.000000</td>\n",
       "      <td>98118.000000</td>\n",
       "      <td>47.678000</td>\n",
       "      <td>-122.125000</td>\n",
       "      <td>2360.000000</td>\n",
       "      <td>10083.000000</td>\n",
       "    </tr>\n",
       "    <tr>\n",
       "      <th>max</th>\n",
       "      <td>2015-05-27 00:00:00</td>\n",
       "      <td>7.700000e+06</td>\n",
       "      <td>33.000000</td>\n",
       "      <td>8.000000</td>\n",
       "      <td>13540.000000</td>\n",
       "      <td>1.651359e+06</td>\n",
       "      <td>3.500000</td>\n",
       "      <td>1.000000</td>\n",
       "      <td>4.000000</td>\n",
       "      <td>5.000000</td>\n",
       "      <td>13.000000</td>\n",
       "      <td>9410.000000</td>\n",
       "      <td>4820.000000</td>\n",
       "      <td>2015.000000</td>\n",
       "      <td>2015.000000</td>\n",
       "      <td>98199.000000</td>\n",
       "      <td>47.777600</td>\n",
       "      <td>-121.315000</td>\n",
       "      <td>6210.000000</td>\n",
       "      <td>871200.000000</td>\n",
       "    </tr>\n",
       "    <tr>\n",
       "      <th>std</th>\n",
       "      <td>NaN</td>\n",
       "      <td>3.671272e+05</td>\n",
       "      <td>0.930062</td>\n",
       "      <td>0.770163</td>\n",
       "      <td>918.440897</td>\n",
       "      <td>4.142051e+04</td>\n",
       "      <td>0.539989</td>\n",
       "      <td>0.086517</td>\n",
       "      <td>0.766318</td>\n",
       "      <td>0.650743</td>\n",
       "      <td>1.175459</td>\n",
       "      <td>828.090978</td>\n",
       "      <td>442.575043</td>\n",
       "      <td>29.373411</td>\n",
       "      <td>401.679240</td>\n",
       "      <td>53.505026</td>\n",
       "      <td>0.138564</td>\n",
       "      <td>0.140828</td>\n",
       "      <td>685.391304</td>\n",
       "      <td>27304.179631</td>\n",
       "    </tr>\n",
       "  </tbody>\n",
       "</table>\n",
       "</div>"
      ],
      "text/plain": [
       "                                date         price      bedrooms  \\\n",
       "count                          21613  2.161300e+04  21613.000000   \n",
       "mean   2014-10-29 04:38:01.959931648  5.400881e+05      3.370842   \n",
       "min              2014-05-02 00:00:00  7.500000e+04      0.000000   \n",
       "25%              2014-07-22 00:00:00  3.219500e+05      3.000000   \n",
       "50%              2014-10-16 00:00:00  4.500000e+05      3.000000   \n",
       "75%              2015-02-17 00:00:00  6.450000e+05      4.000000   \n",
       "max              2015-05-27 00:00:00  7.700000e+06     33.000000   \n",
       "std                              NaN  3.671272e+05      0.930062   \n",
       "\n",
       "          bathrooms   sqft_living      sqft_lot        floors    waterfront  \\\n",
       "count  21613.000000  21613.000000  2.161300e+04  21613.000000  21613.000000   \n",
       "mean       2.114757   2079.899736  1.510697e+04      1.494309      0.007542   \n",
       "min        0.000000    290.000000  5.200000e+02      1.000000      0.000000   \n",
       "25%        1.750000   1427.000000  5.040000e+03      1.000000      0.000000   \n",
       "50%        2.250000   1910.000000  7.618000e+03      1.500000      0.000000   \n",
       "75%        2.500000   2550.000000  1.068800e+04      2.000000      0.000000   \n",
       "max        8.000000  13540.000000  1.651359e+06      3.500000      1.000000   \n",
       "std        0.770163    918.440897  4.142051e+04      0.539989      0.086517   \n",
       "\n",
       "               view     condition         grade    sqft_above  sqft_basement  \\\n",
       "count  21613.000000  21613.000000  21613.000000  21613.000000   21613.000000   \n",
       "mean       0.234303      3.409430      7.656873   1788.390691     291.509045   \n",
       "min        0.000000      1.000000      1.000000    290.000000       0.000000   \n",
       "25%        0.000000      3.000000      7.000000   1190.000000       0.000000   \n",
       "50%        0.000000      3.000000      7.000000   1560.000000       0.000000   \n",
       "75%        0.000000      4.000000      8.000000   2210.000000     560.000000   \n",
       "max        4.000000      5.000000     13.000000   9410.000000    4820.000000   \n",
       "std        0.766318      0.650743      1.175459    828.090978     442.575043   \n",
       "\n",
       "           yr_built  yr_renovated       zipcode           lat          long  \\\n",
       "count  21613.000000  21613.000000  21613.000000  21613.000000  21613.000000   \n",
       "mean    1971.005136     84.402258  98077.939805     47.560053   -122.213896   \n",
       "min     1900.000000      0.000000  98001.000000     47.155900   -122.519000   \n",
       "25%     1951.000000      0.000000  98033.000000     47.471000   -122.328000   \n",
       "50%     1975.000000      0.000000  98065.000000     47.571800   -122.230000   \n",
       "75%     1997.000000      0.000000  98118.000000     47.678000   -122.125000   \n",
       "max     2015.000000   2015.000000  98199.000000     47.777600   -121.315000   \n",
       "std       29.373411    401.679240     53.505026      0.138564      0.140828   \n",
       "\n",
       "       sqft_living15     sqft_lot15  \n",
       "count   21613.000000   21613.000000  \n",
       "mean     1986.552492   12768.455652  \n",
       "min       399.000000     651.000000  \n",
       "25%      1490.000000    5100.000000  \n",
       "50%      1840.000000    7620.000000  \n",
       "75%      2360.000000   10083.000000  \n",
       "max      6210.000000  871200.000000  \n",
       "std       685.391304   27304.179631  "
      ]
     },
     "execution_count": 6,
     "metadata": {},
     "output_type": "execute_result"
    }
   ],
   "source": [
    "df.drop(['id'], axis=1, inplace=True)\n",
    "df.describe()\n",
    "# Let's take a look at the updated DataFrame\n",
    "#df.head()"
   ]
  },
  {
   "cell_type": "code",
   "execution_count": 7,
   "id": "76cda8f9",
   "metadata": {
    "execution": {
     "iopub.execute_input": "2024-04-22T15:02:06.499069Z",
     "iopub.status.busy": "2024-04-22T15:02:06.498508Z",
     "iopub.status.idle": "2024-04-22T15:02:06.510932Z",
     "shell.execute_reply": "2024-04-22T15:02:06.509638Z"
    },
    "papermill": {
     "duration": 0.035824,
     "end_time": "2024-04-22T15:02:06.513572",
     "exception": false,
     "start_time": "2024-04-22T15:02:06.477748",
     "status": "completed"
    },
    "tags": []
   },
   "outputs": [
    {
     "name": "stdout",
     "output_type": "stream",
     "text": [
      "        count\n",
      "floors       \n",
      "1.0     10680\n",
      "2.0      8241\n",
      "1.5      1910\n",
      "3.0       613\n",
      "2.5       161\n",
      "3.5         8\n"
     ]
    }
   ],
   "source": [
    "Floors=df['floors'].value_counts().to_frame() \n",
    "print(Floors)\n"
   ]
  },
  {
   "cell_type": "code",
   "execution_count": 8,
   "id": "95f55dac",
   "metadata": {
    "execution": {
     "iopub.execute_input": "2024-04-22T15:02:06.553664Z",
     "iopub.status.busy": "2024-04-22T15:02:06.553278Z",
     "iopub.status.idle": "2024-04-22T15:02:06.595523Z",
     "shell.execute_reply": "2024-04-22T15:02:06.594241Z"
    },
    "papermill": {
     "duration": 0.065759,
     "end_time": "2024-04-22T15:02:06.598400",
     "exception": false,
     "start_time": "2024-04-22T15:02:06.532641",
     "status": "completed"
    },
    "tags": []
   },
   "outputs": [
    {
     "data": {
      "text/plain": [
       "zipcode         -0.053203\n",
       "date            -0.004357\n",
       "long             0.021626\n",
       "condition        0.036362\n",
       "yr_built         0.054012\n",
       "sqft_lot15       0.082447\n",
       "sqft_lot         0.089661\n",
       "yr_renovated     0.126434\n",
       "floors           0.256794\n",
       "waterfront       0.266369\n",
       "lat              0.307003\n",
       "bedrooms         0.308350\n",
       "sqft_basement    0.323816\n",
       "view             0.397293\n",
       "bathrooms        0.525138\n",
       "sqft_living15    0.585379\n",
       "sqft_above       0.605567\n",
       "grade            0.667434\n",
       "sqft_living      0.702035\n",
       "price            1.000000\n",
       "Name: price, dtype: float64"
      ]
     },
     "execution_count": 8,
     "metadata": {},
     "output_type": "execute_result"
    }
   ],
   "source": [
    "df.corr()['price'].sort_values()\n"
   ]
  },
  {
   "cell_type": "code",
   "execution_count": 9,
   "id": "0be18372",
   "metadata": {
    "execution": {
     "iopub.execute_input": "2024-04-22T15:02:06.638348Z",
     "iopub.status.busy": "2024-04-22T15:02:06.637952Z",
     "iopub.status.idle": "2024-04-22T15:02:06.718113Z",
     "shell.execute_reply": "2024-04-22T15:02:06.716600Z"
    },
    "papermill": {
     "duration": 0.103279,
     "end_time": "2024-04-22T15:02:06.720762",
     "exception": false,
     "start_time": "2024-04-22T15:02:06.617483",
     "status": "completed"
    },
    "tags": []
   },
   "outputs": [
    {
     "data": {
      "text/html": [
       "<div>\n",
       "<style scoped>\n",
       "    .dataframe tbody tr th:only-of-type {\n",
       "        vertical-align: middle;\n",
       "    }\n",
       "\n",
       "    .dataframe tbody tr th {\n",
       "        vertical-align: top;\n",
       "    }\n",
       "\n",
       "    .dataframe thead th {\n",
       "        text-align: right;\n",
       "    }\n",
       "</style>\n",
       "<table border=\"1\" class=\"dataframe\">\n",
       "  <thead>\n",
       "    <tr style=\"text-align: right;\">\n",
       "      <th></th>\n",
       "      <th>date</th>\n",
       "      <th>price</th>\n",
       "      <th>bedrooms</th>\n",
       "      <th>bathrooms</th>\n",
       "      <th>sqft_living</th>\n",
       "      <th>sqft_lot</th>\n",
       "      <th>floors</th>\n",
       "      <th>waterfront</th>\n",
       "      <th>view</th>\n",
       "      <th>condition</th>\n",
       "      <th>grade</th>\n",
       "      <th>sqft_above</th>\n",
       "      <th>sqft_basement</th>\n",
       "      <th>yr_built</th>\n",
       "      <th>yr_renovated</th>\n",
       "      <th>zipcode</th>\n",
       "      <th>lat</th>\n",
       "      <th>long</th>\n",
       "      <th>sqft_living15</th>\n",
       "      <th>sqft_lot15</th>\n",
       "    </tr>\n",
       "  </thead>\n",
       "  <tbody>\n",
       "    <tr>\n",
       "      <th>count</th>\n",
       "      <td>21613</td>\n",
       "      <td>2.161300e+04</td>\n",
       "      <td>21613.000000</td>\n",
       "      <td>21613.000000</td>\n",
       "      <td>21613.000000</td>\n",
       "      <td>2.161300e+04</td>\n",
       "      <td>21613.000000</td>\n",
       "      <td>21613.000000</td>\n",
       "      <td>21613.000000</td>\n",
       "      <td>21613.000000</td>\n",
       "      <td>21613.000000</td>\n",
       "      <td>21613.000000</td>\n",
       "      <td>21613.000000</td>\n",
       "      <td>21613.000000</td>\n",
       "      <td>21613.000000</td>\n",
       "      <td>21613.000000</td>\n",
       "      <td>21613.000000</td>\n",
       "      <td>21613.000000</td>\n",
       "      <td>21613.000000</td>\n",
       "      <td>21613.000000</td>\n",
       "    </tr>\n",
       "    <tr>\n",
       "      <th>mean</th>\n",
       "      <td>2014-10-29 04:38:01.959931648</td>\n",
       "      <td>5.400881e+05</td>\n",
       "      <td>3.370842</td>\n",
       "      <td>2.114757</td>\n",
       "      <td>2079.899736</td>\n",
       "      <td>1.510697e+04</td>\n",
       "      <td>1.494309</td>\n",
       "      <td>0.007542</td>\n",
       "      <td>0.234303</td>\n",
       "      <td>3.409430</td>\n",
       "      <td>7.656873</td>\n",
       "      <td>1788.390691</td>\n",
       "      <td>291.509045</td>\n",
       "      <td>1971.005136</td>\n",
       "      <td>84.402258</td>\n",
       "      <td>98077.939805</td>\n",
       "      <td>47.560053</td>\n",
       "      <td>-122.213896</td>\n",
       "      <td>1986.552492</td>\n",
       "      <td>12768.455652</td>\n",
       "    </tr>\n",
       "    <tr>\n",
       "      <th>min</th>\n",
       "      <td>2014-05-02 00:00:00</td>\n",
       "      <td>7.500000e+04</td>\n",
       "      <td>0.000000</td>\n",
       "      <td>0.000000</td>\n",
       "      <td>290.000000</td>\n",
       "      <td>5.200000e+02</td>\n",
       "      <td>1.000000</td>\n",
       "      <td>0.000000</td>\n",
       "      <td>0.000000</td>\n",
       "      <td>1.000000</td>\n",
       "      <td>1.000000</td>\n",
       "      <td>290.000000</td>\n",
       "      <td>0.000000</td>\n",
       "      <td>1900.000000</td>\n",
       "      <td>0.000000</td>\n",
       "      <td>98001.000000</td>\n",
       "      <td>47.155900</td>\n",
       "      <td>-122.519000</td>\n",
       "      <td>399.000000</td>\n",
       "      <td>651.000000</td>\n",
       "    </tr>\n",
       "    <tr>\n",
       "      <th>25%</th>\n",
       "      <td>2014-07-22 00:00:00</td>\n",
       "      <td>3.219500e+05</td>\n",
       "      <td>3.000000</td>\n",
       "      <td>1.750000</td>\n",
       "      <td>1427.000000</td>\n",
       "      <td>5.040000e+03</td>\n",
       "      <td>1.000000</td>\n",
       "      <td>0.000000</td>\n",
       "      <td>0.000000</td>\n",
       "      <td>3.000000</td>\n",
       "      <td>7.000000</td>\n",
       "      <td>1190.000000</td>\n",
       "      <td>0.000000</td>\n",
       "      <td>1951.000000</td>\n",
       "      <td>0.000000</td>\n",
       "      <td>98033.000000</td>\n",
       "      <td>47.471000</td>\n",
       "      <td>-122.328000</td>\n",
       "      <td>1490.000000</td>\n",
       "      <td>5100.000000</td>\n",
       "    </tr>\n",
       "    <tr>\n",
       "      <th>50%</th>\n",
       "      <td>2014-10-16 00:00:00</td>\n",
       "      <td>4.500000e+05</td>\n",
       "      <td>3.000000</td>\n",
       "      <td>2.250000</td>\n",
       "      <td>1910.000000</td>\n",
       "      <td>7.618000e+03</td>\n",
       "      <td>1.500000</td>\n",
       "      <td>0.000000</td>\n",
       "      <td>0.000000</td>\n",
       "      <td>3.000000</td>\n",
       "      <td>7.000000</td>\n",
       "      <td>1560.000000</td>\n",
       "      <td>0.000000</td>\n",
       "      <td>1975.000000</td>\n",
       "      <td>0.000000</td>\n",
       "      <td>98065.000000</td>\n",
       "      <td>47.571800</td>\n",
       "      <td>-122.230000</td>\n",
       "      <td>1840.000000</td>\n",
       "      <td>7620.000000</td>\n",
       "    </tr>\n",
       "    <tr>\n",
       "      <th>75%</th>\n",
       "      <td>2015-02-17 00:00:00</td>\n",
       "      <td>6.450000e+05</td>\n",
       "      <td>4.000000</td>\n",
       "      <td>2.500000</td>\n",
       "      <td>2550.000000</td>\n",
       "      <td>1.068800e+04</td>\n",
       "      <td>2.000000</td>\n",
       "      <td>0.000000</td>\n",
       "      <td>0.000000</td>\n",
       "      <td>4.000000</td>\n",
       "      <td>8.000000</td>\n",
       "      <td>2210.000000</td>\n",
       "      <td>560.000000</td>\n",
       "      <td>1997.000000</td>\n",
       "      <td>0.000000</td>\n",
       "      <td>98118.000000</td>\n",
       "      <td>47.678000</td>\n",
       "      <td>-122.125000</td>\n",
       "      <td>2360.000000</td>\n",
       "      <td>10083.000000</td>\n",
       "    </tr>\n",
       "    <tr>\n",
       "      <th>max</th>\n",
       "      <td>2015-05-27 00:00:00</td>\n",
       "      <td>7.700000e+06</td>\n",
       "      <td>33.000000</td>\n",
       "      <td>8.000000</td>\n",
       "      <td>13540.000000</td>\n",
       "      <td>1.651359e+06</td>\n",
       "      <td>3.500000</td>\n",
       "      <td>1.000000</td>\n",
       "      <td>4.000000</td>\n",
       "      <td>5.000000</td>\n",
       "      <td>13.000000</td>\n",
       "      <td>9410.000000</td>\n",
       "      <td>4820.000000</td>\n",
       "      <td>2015.000000</td>\n",
       "      <td>2015.000000</td>\n",
       "      <td>98199.000000</td>\n",
       "      <td>47.777600</td>\n",
       "      <td>-121.315000</td>\n",
       "      <td>6210.000000</td>\n",
       "      <td>871200.000000</td>\n",
       "    </tr>\n",
       "    <tr>\n",
       "      <th>std</th>\n",
       "      <td>NaN</td>\n",
       "      <td>3.671272e+05</td>\n",
       "      <td>0.930062</td>\n",
       "      <td>0.770163</td>\n",
       "      <td>918.440897</td>\n",
       "      <td>4.142051e+04</td>\n",
       "      <td>0.539989</td>\n",
       "      <td>0.086517</td>\n",
       "      <td>0.766318</td>\n",
       "      <td>0.650743</td>\n",
       "      <td>1.175459</td>\n",
       "      <td>828.090978</td>\n",
       "      <td>442.575043</td>\n",
       "      <td>29.373411</td>\n",
       "      <td>401.679240</td>\n",
       "      <td>53.505026</td>\n",
       "      <td>0.138564</td>\n",
       "      <td>0.140828</td>\n",
       "      <td>685.391304</td>\n",
       "      <td>27304.179631</td>\n",
       "    </tr>\n",
       "  </tbody>\n",
       "</table>\n",
       "</div>"
      ],
      "text/plain": [
       "                                date         price      bedrooms  \\\n",
       "count                          21613  2.161300e+04  21613.000000   \n",
       "mean   2014-10-29 04:38:01.959931648  5.400881e+05      3.370842   \n",
       "min              2014-05-02 00:00:00  7.500000e+04      0.000000   \n",
       "25%              2014-07-22 00:00:00  3.219500e+05      3.000000   \n",
       "50%              2014-10-16 00:00:00  4.500000e+05      3.000000   \n",
       "75%              2015-02-17 00:00:00  6.450000e+05      4.000000   \n",
       "max              2015-05-27 00:00:00  7.700000e+06     33.000000   \n",
       "std                              NaN  3.671272e+05      0.930062   \n",
       "\n",
       "          bathrooms   sqft_living      sqft_lot        floors    waterfront  \\\n",
       "count  21613.000000  21613.000000  2.161300e+04  21613.000000  21613.000000   \n",
       "mean       2.114757   2079.899736  1.510697e+04      1.494309      0.007542   \n",
       "min        0.000000    290.000000  5.200000e+02      1.000000      0.000000   \n",
       "25%        1.750000   1427.000000  5.040000e+03      1.000000      0.000000   \n",
       "50%        2.250000   1910.000000  7.618000e+03      1.500000      0.000000   \n",
       "75%        2.500000   2550.000000  1.068800e+04      2.000000      0.000000   \n",
       "max        8.000000  13540.000000  1.651359e+06      3.500000      1.000000   \n",
       "std        0.770163    918.440897  4.142051e+04      0.539989      0.086517   \n",
       "\n",
       "               view     condition         grade    sqft_above  sqft_basement  \\\n",
       "count  21613.000000  21613.000000  21613.000000  21613.000000   21613.000000   \n",
       "mean       0.234303      3.409430      7.656873   1788.390691     291.509045   \n",
       "min        0.000000      1.000000      1.000000    290.000000       0.000000   \n",
       "25%        0.000000      3.000000      7.000000   1190.000000       0.000000   \n",
       "50%        0.000000      3.000000      7.000000   1560.000000       0.000000   \n",
       "75%        0.000000      4.000000      8.000000   2210.000000     560.000000   \n",
       "max        4.000000      5.000000     13.000000   9410.000000    4820.000000   \n",
       "std        0.766318      0.650743      1.175459    828.090978     442.575043   \n",
       "\n",
       "           yr_built  yr_renovated       zipcode           lat          long  \\\n",
       "count  21613.000000  21613.000000  21613.000000  21613.000000  21613.000000   \n",
       "mean    1971.005136     84.402258  98077.939805     47.560053   -122.213896   \n",
       "min     1900.000000      0.000000  98001.000000     47.155900   -122.519000   \n",
       "25%     1951.000000      0.000000  98033.000000     47.471000   -122.328000   \n",
       "50%     1975.000000      0.000000  98065.000000     47.571800   -122.230000   \n",
       "75%     1997.000000      0.000000  98118.000000     47.678000   -122.125000   \n",
       "max     2015.000000   2015.000000  98199.000000     47.777600   -121.315000   \n",
       "std       29.373411    401.679240     53.505026      0.138564      0.140828   \n",
       "\n",
       "       sqft_living15     sqft_lot15  \n",
       "count   21613.000000   21613.000000  \n",
       "mean     1986.552492   12768.455652  \n",
       "min       399.000000     651.000000  \n",
       "25%      1490.000000    5100.000000  \n",
       "50%      1840.000000    7620.000000  \n",
       "75%      2360.000000   10083.000000  \n",
       "max      6210.000000  871200.000000  \n",
       "std       685.391304   27304.179631  "
      ]
     },
     "execution_count": 9,
     "metadata": {},
     "output_type": "execute_result"
    }
   ],
   "source": [
    "df.describe()\n"
   ]
  },
  {
   "cell_type": "markdown",
   "id": "350e3572",
   "metadata": {
    "papermill": {
     "duration": 0.019751,
     "end_time": "2024-04-22T15:02:06.760152",
     "exception": false,
     "start_time": "2024-04-22T15:02:06.740401",
     "status": "completed"
    },
    "tags": []
   },
   "source": [
    "Importing Labreries"
   ]
  },
  {
   "cell_type": "code",
   "execution_count": 10,
   "id": "09ab25d4",
   "metadata": {
    "execution": {
     "iopub.execute_input": "2024-04-22T15:02:06.802463Z",
     "iopub.status.busy": "2024-04-22T15:02:06.802016Z",
     "iopub.status.idle": "2024-04-22T15:02:08.567349Z",
     "shell.execute_reply": "2024-04-22T15:02:08.565824Z"
    },
    "papermill": {
     "duration": 1.791693,
     "end_time": "2024-04-22T15:02:08.571824",
     "exception": false,
     "start_time": "2024-04-22T15:02:06.780131",
     "status": "completed"
    },
    "tags": []
   },
   "outputs": [],
   "source": [
    "import pandas as pd\n",
    "import numpy as np\n",
    "import matplotlib.pyplot as plt\n",
    "import seaborn as sns"
   ]
  },
  {
   "cell_type": "code",
   "execution_count": 11,
   "id": "4b188785",
   "metadata": {
    "execution": {
     "iopub.execute_input": "2024-04-22T15:02:08.615384Z",
     "iopub.status.busy": "2024-04-22T15:02:08.614614Z",
     "iopub.status.idle": "2024-04-22T15:02:08.626333Z",
     "shell.execute_reply": "2024-04-22T15:02:08.625155Z"
    },
    "papermill": {
     "duration": 0.036375,
     "end_time": "2024-04-22T15:02:08.629080",
     "exception": false,
     "start_time": "2024-04-22T15:02:08.592705",
     "status": "completed"
    },
    "tags": []
   },
   "outputs": [
    {
     "name": "stdout",
     "output_type": "stream",
     "text": [
      "            count\n",
      "waterfront       \n",
      "0           21450\n",
      "1             163\n"
     ]
    }
   ],
   "source": [
    "waterfront=df['waterfront'].value_counts().to_frame() \n",
    "print(waterfront)"
   ]
  },
  {
   "cell_type": "code",
   "execution_count": 12,
   "id": "03a7a32f",
   "metadata": {
    "execution": {
     "iopub.execute_input": "2024-04-22T15:02:08.672226Z",
     "iopub.status.busy": "2024-04-22T15:02:08.670788Z",
     "iopub.status.idle": "2024-04-22T15:02:09.160195Z",
     "shell.execute_reply": "2024-04-22T15:02:09.159035Z"
    },
    "papermill": {
     "duration": 0.514243,
     "end_time": "2024-04-22T15:02:09.163566",
     "exception": false,
     "start_time": "2024-04-22T15:02:08.649323",
     "status": "completed"
    },
    "tags": []
   },
   "outputs": [
    {
     "data": {
      "image/png": "[encoded data removed]",
      "text/plain": [
       "<Figure size 640x480 with 1 Axes>"
      ]
     },
     "metadata": {},
     "output_type": "display_data"
    }
   ],
   "source": [
    "sns.boxplot(x=df['waterfront'], y=df['price'], data=df)\n",
    "\n",
    "# Add title and labels\n",
    "plt.title('Price Distribution with and without Waterfront View')\n",
    "plt.xlabel('Waterfront View')\n",
    "plt.ylabel('Price')\n",
    "\n",
    "# Show plot\n",
    "plt.show()"
   ]
  },
  {
   "cell_type": "markdown",
   "id": "e1292e20",
   "metadata": {
    "papermill": {
     "duration": 0.019259,
     "end_time": "2024-04-22T15:02:09.202542",
     "exception": false,
     "start_time": "2024-04-22T15:02:09.183283",
     "status": "completed"
    },
    "tags": []
   },
   "source": [
    "**scatter plot**<br>\n",
    "show the relationship between 2 variables"
   ]
  },
  {
   "cell_type": "code",
   "execution_count": 13,
   "id": "92fa7f64",
   "metadata": {
    "execution": {
     "iopub.execute_input": "2024-04-22T15:02:09.243686Z",
     "iopub.status.busy": "2024-04-22T15:02:09.243307Z",
     "iopub.status.idle": "2024-04-22T15:02:09.687634Z",
     "shell.execute_reply": "2024-04-22T15:02:09.686113Z"
    },
    "papermill": {
     "duration": 0.468377,
     "end_time": "2024-04-22T15:02:09.690509",
     "exception": false,
     "start_time": "2024-04-22T15:02:09.222132",
     "status": "completed"
    },
    "tags": []
   },
   "outputs": [
    {
     "data": {
      "text/plain": [
       "<matplotlib.collections.PathCollection at 0x7b8ce31b9a80>"
      ]
     },
     "execution_count": 13,
     "metadata": {},
     "output_type": "execute_result"
    },
    {
     "data": {
      "image/png": "[encoded data removed]",
      "text/plain": [
       "<Figure size 640x480 with 1 Axes>"
      ]
     },
     "metadata": {},
     "output_type": "display_data"
    }
   ],
   "source": [
    "y=df['price']\n",
    "x=df['sqft_living']\n",
    "plt.scatter(x,y)"
   ]
  },
  {
   "cell_type": "markdown",
   "id": "5db48f2f",
   "metadata": {
    "papermill": {
     "duration": 0.019851,
     "end_time": "2024-04-22T15:02:09.730817",
     "exception": false,
     "start_time": "2024-04-22T15:02:09.710966",
     "status": "completed"
    },
    "tags": []
   },
   "source": [
    "As we see, we have a stong(positive) correlation between price and sqft_living\n",
    "We see this positive linear ralationship using **regplot**"
   ]
  },
  {
   "cell_type": "code",
   "execution_count": 14,
   "id": "2c9cbe81",
   "metadata": {
    "execution": {
     "iopub.execute_input": "2024-04-22T15:02:09.775344Z",
     "iopub.status.busy": "2024-04-22T15:02:09.774944Z",
     "iopub.status.idle": "2024-04-22T15:02:11.495553Z",
     "shell.execute_reply": "2024-04-22T15:02:11.494500Z"
    },
    "papermill": {
     "duration": 1.746153,
     "end_time": "2024-04-22T15:02:11.498244",
     "exception": false,
     "start_time": "2024-04-22T15:02:09.752091",
     "status": "completed"
    },
    "tags": []
   },
   "outputs": [
    {
     "data": {
      "text/plain": [
       "(0.0, 8083988.508894991)"
      ]
     },
     "execution_count": 14,
     "metadata": {},
     "output_type": "execute_result"
    },
    {
     "data": {
      "image/png": "[encoded data removed]",
      "text/plain": [
       "<Figure size 640x480 with 1 Axes>"
      ]
     },
     "metadata": {},
     "output_type": "display_data"
    }
   ],
   "source": [
    "y=df['price']\n",
    "x=df['sqft_living']\n",
    "sns.regplot(x=x,y=y, data=df)\n",
    "plt.ylim(0,)"
   ]
  },
  {
   "cell_type": "code",
   "execution_count": 15,
   "id": "53e37c7a",
   "metadata": {
    "execution": {
     "iopub.execute_input": "2024-04-22T15:02:11.545628Z",
     "iopub.status.busy": "2024-04-22T15:02:11.545083Z",
     "iopub.status.idle": "2024-04-22T15:02:11.948670Z",
     "shell.execute_reply": "2024-04-22T15:02:11.947329Z"
    },
    "papermill": {
     "duration": 0.430822,
     "end_time": "2024-04-22T15:02:11.951658",
     "exception": false,
     "start_time": "2024-04-22T15:02:11.520836",
     "status": "completed"
    },
    "tags": []
   },
   "outputs": [
    {
     "data": {
      "text/plain": [
       "<matplotlib.collections.PathCollection at 0x7b8cc2535bd0>"
      ]
     },
     "execution_count": 15,
     "metadata": {},
     "output_type": "execute_result"
    },
    {
     "data": {
      "image/png": "[encoded data removed]",
      "text/plain": [
       "<Figure size 640x480 with 1 Axes>"
      ]
     },
     "metadata": {},
     "output_type": "display_data"
    }
   ],
   "source": [
    "y=df['price']\n",
    "x=df['grade']\n",
    "plt.scatter(x,y)"
   ]
  },
  {
   "cell_type": "markdown",
   "id": "163680f3",
   "metadata": {
    "papermill": {
     "duration": 0.022092,
     "end_time": "2024-04-22T15:02:11.996416",
     "exception": false,
     "start_time": "2024-04-22T15:02:11.974324",
     "status": "completed"
    },
    "tags": []
   },
   "source": [
    "**Pearson correclation**<br>\n",
    "Strong correclation:<br>\n",
    "correlation coefficient close 1 or -1\n",
    "p-value less than 0.001"
   ]
  },
  {
   "cell_type": "code",
   "execution_count": 16,
   "id": "e9e7deaf",
   "metadata": {
    "execution": {
     "iopub.execute_input": "2024-04-22T15:02:12.044191Z",
     "iopub.status.busy": "2024-04-22T15:02:12.042969Z",
     "iopub.status.idle": "2024-04-22T15:02:12.061656Z",
     "shell.execute_reply": "2024-04-22T15:02:12.059920Z"
    },
    "papermill": {
     "duration": 0.047021,
     "end_time": "2024-04-22T15:02:12.065854",
     "exception": false,
     "start_time": "2024-04-22T15:02:12.018833",
     "status": "completed"
    },
    "tags": []
   },
   "outputs": [
    {
     "name": "stdout",
     "output_type": "stream",
     "text": [
      "0.7020350546118\n",
      "0.0\n"
     ]
    }
   ],
   "source": [
    "from scipy import stats\n",
    "pearson_coef, p_value=stats.pearsonr(df['price'],df['sqft_living'])\n",
    "print(pearson_coef)\n",
    "print(p_value)\n",
    "\n"
   ]
  },
  {
   "cell_type": "markdown",
   "id": "e81cab7e",
   "metadata": {
    "papermill": {
     "duration": 0.02222,
     "end_time": "2024-04-22T15:02:12.250185",
     "exception": false,
     "start_time": "2024-04-22T15:02:12.227965",
     "status": "completed"
    },
    "tags": []
   },
   "source": [
    "****Functions for Plotting****\n"
   ]
  },
  {
   "cell_type": "code",
   "execution_count": null,
   "id": "5e43dffe",
   "metadata": {
    "papermill": {
     "duration": 0.022009,
     "end_time": "2024-04-22T15:02:12.294953",
     "exception": false,
     "start_time": "2024-04-22T15:02:12.272944",
     "status": "completed"
    },
    "tags": []
   },
   "outputs": [],
   "source": []
  },
  {
   "cell_type": "markdown",
   "id": "c71db48f",
   "metadata": {
    "papermill": {
     "duration": 0.022815,
     "end_time": "2024-04-22T15:02:12.340484",
     "exception": false,
     "start_time": "2024-04-22T15:02:12.317669",
     "status": "completed"
    },
    "tags": []
   },
   "source": [
    "Part 1: Training and Testing\n",
    "\n",
    "An important step in testing the model is to split the data into training and testing data. We will place the target data **price** in a separate dataframe **y_data**\n"
   ]
  },
  {
   "cell_type": "code",
   "execution_count": 17,
   "id": "2dbb1d3c",
   "metadata": {
    "execution": {
     "iopub.execute_input": "2024-04-22T15:02:12.387937Z",
     "iopub.status.busy": "2024-04-22T15:02:12.387478Z",
     "iopub.status.idle": "2024-04-22T15:02:12.396173Z",
     "shell.execute_reply": "2024-04-22T15:02:12.395101Z"
    },
    "papermill": {
     "duration": 0.035524,
     "end_time": "2024-04-22T15:02:12.398732",
     "exception": false,
     "start_time": "2024-04-22T15:02:12.363208",
     "status": "completed"
    },
    "tags": []
   },
   "outputs": [],
   "source": [
    "y_data = df['price']\n",
    "#print(y_data)\n",
    "#Drop price data in dataframe x_data:\n",
    "\n",
    "x_data=df.drop('price',axis=1)\n",
    "#print(x_data)"
   ]
  },
  {
   "cell_type": "markdown",
   "id": "3a4a341d",
   "metadata": {
    "papermill": {
     "duration": 0.023197,
     "end_time": "2024-04-22T15:02:12.445193",
     "exception": false,
     "start_time": "2024-04-22T15:02:12.421996",
     "status": "completed"
    },
    "tags": []
   },
   "source": [
    "Now, we randomly split our data into training and testing data using the function **train_test_split**\n"
   ]
  },
  {
   "cell_type": "code",
   "execution_count": 18,
   "id": "4b49b5e4",
   "metadata": {
    "execution": {
     "iopub.execute_input": "2024-04-22T15:02:12.494347Z",
     "iopub.status.busy": "2024-04-22T15:02:12.493051Z",
     "iopub.status.idle": "2024-04-22T15:02:12.846940Z",
     "shell.execute_reply": "2024-04-22T15:02:12.845663Z"
    },
    "papermill": {
     "duration": 0.380957,
     "end_time": "2024-04-22T15:02:12.849555",
     "exception": false,
     "start_time": "2024-04-22T15:02:12.468598",
     "status": "completed"
    },
    "tags": []
   },
   "outputs": [
    {
     "name": "stdout",
     "output_type": "stream",
     "text": [
      "number of test samples : 2162\n",
      "number of training samples: 19451\n"
     ]
    }
   ],
   "source": [
    "from sklearn.model_selection import train_test_split\n",
    "\n",
    "x_train, x_test, y_train, y_test = train_test_split(x_data, y_data, test_size=0.10, random_state=1)\n",
    "\n",
    "\n",
    "print(\"number of test samples :\", x_test.shape[0])\n",
    "print(\"number of training samples:\",x_train.shape[0])"
   ]
  },
  {
   "cell_type": "markdown",
   "id": "f103d682",
   "metadata": {
    "papermill": {
     "duration": 0.023721,
     "end_time": "2024-04-22T15:02:12.896634",
     "exception": false,
     "start_time": "2024-04-22T15:02:12.872913",
     "status": "completed"
    },
    "tags": []
   },
   "source": [
    "**Fitting a sample linear model estimator:**"
   ]
  },
  {
   "cell_type": "code",
   "execution_count": 19,
   "id": "c66e9af3",
   "metadata": {
    "execution": {
     "iopub.execute_input": "2024-04-22T15:02:12.945355Z",
     "iopub.status.busy": "2024-04-22T15:02:12.944131Z",
     "iopub.status.idle": "2024-04-22T15:02:13.109220Z",
     "shell.execute_reply": "2024-04-22T15:02:13.107970Z"
    },
    "papermill": {
     "duration": 0.192753,
     "end_time": "2024-04-22T15:02:13.112328",
     "exception": false,
     "start_time": "2024-04-22T15:02:12.919575",
     "status": "completed"
    },
    "tags": []
   },
   "outputs": [
    {
     "name": "stdout",
     "output_type": "stream",
     "text": [
      "0.4938445479924306\n"
     ]
    },
    {
     "data": {
      "text/plain": [
       "0.48489043226442774"
      ]
     },
     "execution_count": 19,
     "metadata": {},
     "output_type": "execute_result"
    }
   ],
   "source": [
    "from sklearn.linear_model import LinearRegression\n",
    "lre=LinearRegression()\n",
    "lre.fit(x_train[['sqft_living']], y_train)\n",
    "yhat=lre.predict(x_test[['sqft_living']])\n",
    "print(lre.score(x_train[['sqft_living']], y_train))\n",
    "lre.score(x_test[['sqft_living']], y_test)\n",
    "\n"
   ]
  },
  {
   "cell_type": "markdown",
   "id": "2ba3e7d6",
   "metadata": {
    "papermill": {
     "duration": 0.023149,
     "end_time": "2024-04-22T15:02:13.160718",
     "exception": false,
     "start_time": "2024-04-22T15:02:13.137569",
     "status": "completed"
    },
    "tags": []
   },
   "source": [
    "We can obtain a predection:"
   ]
  },
  {
   "cell_type": "code",
   "execution_count": 20,
   "id": "1cbc07f1",
   "metadata": {
    "execution": {
     "iopub.execute_input": "2024-04-22T15:02:13.211299Z",
     "iopub.status.busy": "2024-04-22T15:02:13.209942Z",
     "iopub.status.idle": "2024-04-22T15:02:13.218863Z",
     "shell.execute_reply": "2024-04-22T15:02:13.217809Z"
    },
    "papermill": {
     "duration": 0.037335,
     "end_time": "2024-04-22T15:02:13.221531",
     "exception": false,
     "start_time": "2024-04-22T15:02:13.184196",
     "status": "completed"
    },
    "tags": []
   },
   "outputs": [],
   "source": [
    "yhat=lre.predict(x_test[['sqft_living']])\n",
    "#print(yhat, x_test[['sqft_living']])"
   ]
  },
  {
   "cell_type": "markdown",
   "id": "d4c2692f",
   "metadata": {
    "papermill": {
     "duration": 0.02396,
     "end_time": "2024-04-22T15:02:13.269189",
     "exception": false,
     "start_time": "2024-04-22T15:02:13.245229",
     "status": "completed"
    },
    "tags": []
   },
   "source": [
    "Let's calculate the R^2 on the test data:\n"
   ]
  },
  {
   "cell_type": "code",
   "execution_count": 21,
   "id": "2655b759",
   "metadata": {
    "execution": {
     "iopub.execute_input": "2024-04-22T15:02:13.321134Z",
     "iopub.status.busy": "2024-04-22T15:02:13.319693Z",
     "iopub.status.idle": "2024-04-22T15:02:13.332420Z",
     "shell.execute_reply": "2024-04-22T15:02:13.331522Z"
    },
    "papermill": {
     "duration": 0.040622,
     "end_time": "2024-04-22T15:02:13.334671",
     "exception": false,
     "start_time": "2024-04-22T15:02:13.294049",
     "status": "completed"
    },
    "tags": []
   },
   "outputs": [
    {
     "data": {
      "text/plain": [
       "0.48489043226442774"
      ]
     },
     "execution_count": 21,
     "metadata": {},
     "output_type": "execute_result"
    }
   ],
   "source": [
    "lre.score(x_test[['sqft_living']], y_test)"
   ]
  },
  {
   "cell_type": "markdown",
   "id": "8f0f7b04",
   "metadata": {
    "papermill": {
     "duration": 0.022836,
     "end_time": "2024-04-22T15:02:13.381464",
     "exception": false,
     "start_time": "2024-04-22T15:02:13.358628",
     "status": "completed"
    },
    "tags": []
   },
   "source": [
    "We can see the R^2 is smaller using the test data compared to the training data.\n"
   ]
  },
  {
   "cell_type": "code",
   "execution_count": 22,
   "id": "1748c906",
   "metadata": {
    "execution": {
     "iopub.execute_input": "2024-04-22T15:02:13.431988Z",
     "iopub.status.busy": "2024-04-22T15:02:13.431378Z",
     "iopub.status.idle": "2024-04-22T15:02:13.441645Z",
     "shell.execute_reply": "2024-04-22T15:02:13.440832Z"
    },
    "papermill": {
     "duration": 0.038854,
     "end_time": "2024-04-22T15:02:13.444379",
     "exception": false,
     "start_time": "2024-04-22T15:02:13.405525",
     "status": "completed"
    },
    "tags": []
   },
   "outputs": [
    {
     "data": {
      "text/plain": [
       "0.4938445479924306"
      ]
     },
     "execution_count": 22,
     "metadata": {},
     "output_type": "execute_result"
    }
   ],
   "source": [
    "lre.score(x_train[['sqft_living']], y_train)"
   ]
  },
  {
   "cell_type": "code",
   "execution_count": 23,
   "id": "c159782b",
   "metadata": {
    "execution": {
     "iopub.execute_input": "2024-04-22T15:02:13.494518Z",
     "iopub.status.busy": "2024-04-22T15:02:13.493800Z",
     "iopub.status.idle": "2024-04-22T15:02:13.568548Z",
     "shell.execute_reply": "2024-04-22T15:02:13.566712Z"
    },
    "papermill": {
     "duration": 0.104885,
     "end_time": "2024-04-22T15:02:13.572814",
     "exception": false,
     "start_time": "2024-04-22T15:02:13.467929",
     "status": "completed"
    },
    "tags": []
   },
   "outputs": [
    {
     "name": "stdout",
     "output_type": "stream",
     "text": [
      "0.6440222892180858\n"
     ]
    },
    {
     "data": {
      "text/plain": [
       "0.6172408562283453"
      ]
     },
     "execution_count": 23,
     "metadata": {},
     "output_type": "execute_result"
    }
   ],
   "source": [
    "lre=LinearRegression()\n",
    "x_train=x_train[['sqft_living','floors','lat','bedrooms','sqft_basement','view','bathrooms','sqft_living15','sqft_above','grade']]\n",
    "x_test=x_test[['sqft_living','floors','lat','bedrooms','sqft_basement','view','bathrooms','sqft_living15','sqft_above','grade']]\n",
    "lre.fit(x_train, y_train)\n",
    "yhat=lre.predict(x_test)\n",
    "print(lre.score(x_train, y_train))\n",
    "lre.score(x_test, y_test)"
   ]
  },
  {
   "cell_type": "markdown",
   "id": "58a60dd1",
   "metadata": {
    "papermill": {
     "duration": 0.034436,
     "end_time": "2024-04-22T15:02:13.688562",
     "exception": false,
     "start_time": "2024-04-22T15:02:13.654126",
     "status": "completed"
    },
    "tags": []
   },
   "source": [
    "we observe that R^2 has been increased"
   ]
  },
  {
   "cell_type": "markdown",
   "id": "10222a79",
   "metadata": {
    "papermill": {
     "duration": 0.023779,
     "end_time": "2024-04-22T15:02:13.735638",
     "exception": false,
     "start_time": "2024-04-22T15:02:13.711859",
     "status": "completed"
    },
    "tags": []
   },
   "source": [
    "**Pipeline**"
   ]
  },
  {
   "cell_type": "markdown",
   "id": "1036abe6",
   "metadata": {
    "papermill": {
     "duration": 0.022979,
     "end_time": "2024-04-22T15:02:13.782171",
     "exception": false,
     "start_time": "2024-04-22T15:02:13.759192",
     "status": "completed"
    },
    "tags": []
   },
   "source": [
    "We can perform polynomial transformations with more than one feature. Create a \"PolynomialFeatures\" object \"pr1\" of degree two\n"
   ]
  },
  {
   "cell_type": "markdown",
   "id": "9db54f83",
   "metadata": {
    "papermill": {
     "duration": 0.023458,
     "end_time": "2024-04-22T15:02:13.829616",
     "exception": false,
     "start_time": "2024-04-22T15:02:13.806158",
     "status": "completed"
    },
    "tags": []
   },
   "source": [
    "Use the method \"predict\" to predict an output on the polynomial features, then use the function \"DistributionPlot\" to display the distribution of the predicted test output vs. the actual test data."
   ]
  },
  {
   "cell_type": "code",
   "execution_count": 24,
   "id": "cbeb1648",
   "metadata": {
    "execution": {
     "iopub.execute_input": "2024-04-22T15:02:13.877744Z",
     "iopub.status.busy": "2024-04-22T15:02:13.877290Z",
     "iopub.status.idle": "2024-04-22T15:02:13.886612Z",
     "shell.execute_reply": "2024-04-22T15:02:13.885688Z"
    },
    "papermill": {
     "duration": 0.03652,
     "end_time": "2024-04-22T15:02:13.889186",
     "exception": false,
     "start_time": "2024-04-22T15:02:13.852666",
     "status": "completed"
    },
    "tags": []
   },
   "outputs": [],
   "source": [
    "from sklearn.pipeline import Pipeline\n",
    "from sklearn.preprocessing import StandardScaler, PolynomialFeatures\n",
    "from sklearn.linear_model import LinearRegression\n",
    "from sklearn.model_selection import train_test_split\n",
    "from sklearn.metrics import r2_score"
   ]
  },
  {
   "cell_type": "code",
   "execution_count": 25,
   "id": "89589dca",
   "metadata": {
    "execution": {
     "iopub.execute_input": "2024-04-22T15:02:13.940220Z",
     "iopub.status.busy": "2024-04-22T15:02:13.939336Z",
     "iopub.status.idle": "2024-04-22T15:02:13.945463Z",
     "shell.execute_reply": "2024-04-22T15:02:13.944605Z"
    },
    "papermill": {
     "duration": 0.034359,
     "end_time": "2024-04-22T15:02:13.948013",
     "exception": false,
     "start_time": "2024-04-22T15:02:13.913654",
     "status": "completed"
    },
    "tags": []
   },
   "outputs": [],
   "source": [
    "# Create pipeline\n",
    "pipeline = Pipeline([\n",
    "    ('scaler', StandardScaler()),  # Step 1: Scale the data\n",
    "    ('poly', PolynomialFeatures(degree=1)),  # Step 2: Perform polynomial transform\n",
    "    ('regression', LinearRegression())  # Step 3: Fit a linear regression model\n",
    "])"
   ]
  },
  {
   "cell_type": "code",
   "execution_count": 26,
   "id": "fa91fa70",
   "metadata": {
    "execution": {
     "iopub.execute_input": "2024-04-22T15:02:13.998106Z",
     "iopub.status.busy": "2024-04-22T15:02:13.997295Z",
     "iopub.status.idle": "2024-04-22T15:02:14.042133Z",
     "shell.execute_reply": "2024-04-22T15:02:14.040525Z"
    },
    "papermill": {
     "duration": 0.074847,
     "end_time": "2024-04-22T15:02:14.046553",
     "exception": false,
     "start_time": "2024-04-22T15:02:13.971706",
     "status": "completed"
    },
    "tags": []
   },
   "outputs": [
    {
     "name": "stdout",
     "output_type": "stream",
     "text": [
      "0.617240856228344\n"
     ]
    }
   ],
   "source": [
    "# Fit the pipeline object\n",
    "pipeline.fit(x_train, y_train)\n",
    "# Make predictions\n",
    "y_pred = pipeline.predict(x_test)\n",
    "# Calculate R^2\n",
    "r_squared = r2_score(y_test, y_pred)\n",
    "print(r_squared)"
   ]
  },
  {
   "cell_type": "markdown",
   "id": "6ffc4e1b",
   "metadata": {
    "papermill": {
     "duration": 0.042306,
     "end_time": "2024-04-22T15:02:14.160651",
     "exception": false,
     "start_time": "2024-04-22T15:02:14.118345",
     "status": "completed"
    },
    "tags": []
   },
   "source": [
    "The Price is related to many feature, So the best solution is multiple lirear regression model"
   ]
  },
  {
   "cell_type": "markdown",
   "id": "2c196211",
   "metadata": {
    "papermill": {
     "duration": 0.023382,
     "end_time": "2024-04-22T15:02:14.207954",
     "exception": false,
     "start_time": "2024-04-22T15:02:14.184572",
     "status": "completed"
    },
    "tags": []
   },
   "source": [
    "We can perform polynomial transformations with more than one feature. Create a \"PolynomialFeatures\" object \"pr1\" of degree two"
   ]
  },
  {
   "cell_type": "markdown",
   "id": "0bfa5ae6",
   "metadata": {
    "papermill": {
     "duration": 0.0239,
     "end_time": "2024-04-22T15:02:14.255492",
     "exception": false,
     "start_time": "2024-04-22T15:02:14.231592",
     "status": "completed"
    },
    "tags": []
   },
   "source": [
    "Create a linear regression model \"poly1\". Train the object using the method \"fit\" using the polynomial features."
   ]
  },
  {
   "cell_type": "code",
   "execution_count": 27,
   "id": "90227235",
   "metadata": {
    "execution": {
     "iopub.execute_input": "2024-04-22T15:02:14.304994Z",
     "iopub.status.busy": "2024-04-22T15:02:14.304549Z",
     "iopub.status.idle": "2024-04-22T15:02:14.312752Z",
     "shell.execute_reply": "2024-04-22T15:02:14.311487Z"
    },
    "papermill": {
     "duration": 0.035937,
     "end_time": "2024-04-22T15:02:14.315162",
     "exception": false,
     "start_time": "2024-04-22T15:02:14.279225",
     "status": "completed"
    },
    "tags": []
   },
   "outputs": [],
   "source": [
    "def DistributionPlot(RedFunction, BlueFunction, RedName, BlueName, Title):\n",
    "    width = 14\n",
    "    height = 14\n",
    "    plt.figure(figsize=(width, height))\n",
    "    \n",
    "    ax1 = sns.kdeplot(RedFunction, color=\"r\", label=RedName)\n",
    "    ax2 = sns.kdeplot(BlueFunction, color=\"b\", label=BlueName, ax=ax1)\n",
    "\n",
    "    plt.title(Title)\n",
    "    plt.xlabel('Price (in dollars)')\n",
    "    plt.ylabel('Proportion of Houses')\n",
    "    plt.show()\n",
    "    plt.close()"
   ]
  },
  {
   "cell_type": "code",
   "execution_count": 28,
   "id": "6c2cb9e4",
   "metadata": {
    "execution": {
     "iopub.execute_input": "2024-04-22T15:02:14.365057Z",
     "iopub.status.busy": "2024-04-22T15:02:14.364583Z",
     "iopub.status.idle": "2024-04-22T15:02:14.370078Z",
     "shell.execute_reply": "2024-04-22T15:02:14.368645Z"
    },
    "papermill": {
     "duration": 0.03385,
     "end_time": "2024-04-22T15:02:14.372663",
     "exception": false,
     "start_time": "2024-04-22T15:02:14.338813",
     "status": "completed"
    },
    "tags": []
   },
   "outputs": [],
   "source": [
    "#sns.kdeplot(y_test, color='r',label='Actuals')\n",
    "#sns.kdeplot(yhat_test1, color='b', label='Predictions')"
   ]
  },
  {
   "cell_type": "code",
   "execution_count": 29,
   "id": "5ec1203d",
   "metadata": {
    "execution": {
     "iopub.execute_input": "2024-04-22T15:02:14.425101Z",
     "iopub.status.busy": "2024-04-22T15:02:14.424625Z",
     "iopub.status.idle": "2024-04-22T15:02:14.995424Z",
     "shell.execute_reply": "2024-04-22T15:02:14.994040Z"
    },
    "papermill": {
     "duration": 0.602369,
     "end_time": "2024-04-22T15:02:14.999272",
     "exception": false,
     "start_time": "2024-04-22T15:02:14.396903",
     "status": "completed"
    },
    "tags": []
   },
   "outputs": [
    {
     "name": "stderr",
     "output_type": "stream",
     "text": [
      "/opt/conda/lib/python3.10/site-packages/seaborn/_oldcore.py:1119: FutureWarning: use_inf_as_na option is deprecated and will be removed in a future version. Convert inf values to NaN before operating instead.\n",
      "  with pd.option_context('mode.use_inf_as_na', True):\n",
      "/opt/conda/lib/python3.10/site-packages/seaborn/_oldcore.py:1119: FutureWarning: use_inf_as_na option is deprecated and will be removed in a future version. Convert inf values to NaN before operating instead.\n",
      "  with pd.option_context('mode.use_inf_as_na', True):\n"
     ]
    },
    {
     "data": {
      "image/png": "[encoded data removed]",
      "text/plain": [
       "<Figure size 1400x1400 with 1 Axes>"
      ]
     },
     "metadata": {},
     "output_type": "display_data"
    }
   ],
   "source": [
    "Title='Distribution  Plot of  Predicted Value Using Test Data vs Data Distribution of Test Data'\n",
    "\n",
    "DistributionPlot(y_test, y_pred, \"Actual Values (Test)\", \"Predicted Values (Test)\", Title)"
   ]
  },
  {
   "cell_type": "markdown",
   "id": "c96c82dd",
   "metadata": {
    "papermill": {
     "duration": 0.031464,
     "end_time": "2024-04-22T15:02:15.058127",
     "exception": false,
     "start_time": "2024-04-22T15:02:15.026663",
     "status": "completed"
    },
    "tags": []
   },
   "source": [
    "The predicted value is higher than actual value for houses where the price less $1,000,000 "
   ]
  },
  {
   "cell_type": "markdown",
   "id": "cd9a7762",
   "metadata": {
    "papermill": {
     "duration": 0.025925,
     "end_time": "2024-04-22T15:02:15.110407",
     "exception": false,
     "start_time": "2024-04-22T15:02:15.084482",
     "status": "completed"
    },
    "tags": []
   },
   "source": [
    "**** Ridge Regression****"
   ]
  },
  {
   "cell_type": "markdown",
   "id": "69d31c33",
   "metadata": {
    "papermill": {
     "duration": 0.025787,
     "end_time": "2024-04-22T15:02:15.161801",
     "exception": false,
     "start_time": "2024-04-22T15:02:15.136014",
     "status": "completed"
    },
    "tags": []
   },
   "source": [
    "In this section, we will review Ridge Regression and see how the parameter alpha changes the model. Just a note, here our test data will be used as validation data."
   ]
  },
  {
   "cell_type": "markdown",
   "id": "129a042b",
   "metadata": {
    "papermill": {
     "duration": 0.02637,
     "end_time": "2024-04-22T15:02:15.213944",
     "exception": false,
     "start_time": "2024-04-22T15:02:15.187574",
     "status": "completed"
    },
    "tags": []
   },
   "source": [
    "Let's import  <b>Ridge</b>  from the module <b>linear models</b>.\n"
   ]
  },
  {
   "cell_type": "code",
   "execution_count": 30,
   "id": "93b54e26",
   "metadata": {
    "execution": {
     "iopub.execute_input": "2024-04-22T15:02:15.267139Z",
     "iopub.status.busy": "2024-04-22T15:02:15.266641Z",
     "iopub.status.idle": "2024-04-22T15:02:15.272312Z",
     "shell.execute_reply": "2024-04-22T15:02:15.271076Z"
    },
    "papermill": {
     "duration": 0.035334,
     "end_time": "2024-04-22T15:02:15.274804",
     "exception": false,
     "start_time": "2024-04-22T15:02:15.239470",
     "status": "completed"
    },
    "tags": []
   },
   "outputs": [],
   "source": [
    "from sklearn.linear_model import Ridge"
   ]
  },
  {
   "cell_type": "markdown",
   "id": "70e3dbc0",
   "metadata": {
    "papermill": {
     "duration": 0.025219,
     "end_time": "2024-04-22T15:02:15.326148",
     "exception": false,
     "start_time": "2024-04-22T15:02:15.300929",
     "status": "completed"
    },
    "tags": []
   },
   "source": [
    "Let's create a Ridge regression object, setting the regularization parameter (alpha) to 0.1\n"
   ]
  },
  {
   "cell_type": "code",
   "execution_count": 31,
   "id": "8240f4be",
   "metadata": {
    "execution": {
     "iopub.execute_input": "2024-04-22T15:02:15.381588Z",
     "iopub.status.busy": "2024-04-22T15:02:15.381169Z",
     "iopub.status.idle": "2024-04-22T15:02:15.386543Z",
     "shell.execute_reply": "2024-04-22T15:02:15.385380Z"
    },
    "papermill": {
     "duration": 0.037095,
     "end_time": "2024-04-22T15:02:15.389506",
     "exception": false,
     "start_time": "2024-04-22T15:02:15.352411",
     "status": "completed"
    },
    "tags": []
   },
   "outputs": [],
   "source": [
    "RigeModel=Ridge(alpha=0.1)"
   ]
  },
  {
   "cell_type": "markdown",
   "id": "ed08e266",
   "metadata": {
    "papermill": {
     "duration": 0.026708,
     "end_time": "2024-04-22T15:02:15.442943",
     "exception": false,
     "start_time": "2024-04-22T15:02:15.416235",
     "status": "completed"
    },
    "tags": []
   },
   "source": [
    "Like regular regression, you can fit the model using the method <b>fit</b>.\n"
   ]
  },
  {
   "cell_type": "code",
   "execution_count": 32,
   "id": "509648aa",
   "metadata": {
    "execution": {
     "iopub.execute_input": "2024-04-22T15:02:15.496307Z",
     "iopub.status.busy": "2024-04-22T15:02:15.495369Z",
     "iopub.status.idle": "2024-04-22T15:02:15.516964Z",
     "shell.execute_reply": "2024-04-22T15:02:15.515303Z"
    },
    "papermill": {
     "duration": 0.050813,
     "end_time": "2024-04-22T15:02:15.519605",
     "exception": false,
     "start_time": "2024-04-22T15:02:15.468792",
     "status": "completed"
    },
    "tags": []
   },
   "outputs": [
    {
     "data": {
      "text/html": [
       "<style>#sk-container-id-1 {color: black;background-color: white;}#sk-container-id-1 pre{padding: 0;}#sk-container-id-1 div.sk-toggleable {background-color: white;}#sk-container-id-1 label.sk-toggleable__label {cursor: pointer;display: block;width: 100%;margin-bottom: 0;padding: 0.3em;box-sizing: border-box;text-align: center;}#sk-container-id-1 label.sk-toggleable__label-arrow:before {content: \"▸\";float: left;margin-right: 0.25em;color: #696969;}#sk-container-id-1 label.sk-toggleable__label-arrow:hover:before {color: black;}#sk-container-id-1 div.sk-estimator:hover label.sk-toggleable__label-arrow:before {color: black;}#sk-container-id-1 div.sk-toggleable__content {max-height: 0;max-width: 0;overflow: hidden;text-align: left;background-color: #f0f8ff;}#sk-container-id-1 div.sk-toggleable__content pre {margin: 0.2em;color: black;border-radius: 0.25em;background-color: #f0f8ff;}#sk-container-id-1 input.sk-toggleable__control:checked~div.sk-toggleable__content {max-height: 200px;max-width: 100%;overflow: auto;}#sk-container-id-1 input.sk-toggleable__control:checked~label.sk-toggleable__label-arrow:before {content: \"▾\";}#sk-container-id-1 div.sk-estimator input.sk-toggleable__control:checked~label.sk-toggleable__label {background-color: #d4ebff;}#sk-container-id-1 div.sk-label input.sk-toggleable__control:checked~label.sk-toggleable__label {background-color: #d4ebff;}#sk-container-id-1 input.sk-hidden--visually {border: 0;clip: rect(1px 1px 1px 1px);clip: rect(1px, 1px, 1px, 1px);height: 1px;margin: -1px;overflow: hidden;padding: 0;position: absolute;width: 1px;}#sk-container-id-1 div.sk-estimator {font-family: monospace;background-color: #f0f8ff;border: 1px dotted black;border-radius: 0.25em;box-sizing: border-box;margin-bottom: 0.5em;}#sk-container-id-1 div.sk-estimator:hover {background-color: #d4ebff;}#sk-container-id-1 div.sk-parallel-item::after {content: \"\";width: 100%;border-bottom: 1px solid gray;flex-grow: 1;}#sk-container-id-1 div.sk-label:hover label.sk-toggleable__label {background-color: #d4ebff;}#sk-container-id-1 div.sk-serial::before {content: \"\";position: absolute;border-left: 1px solid gray;box-sizing: border-box;top: 0;bottom: 0;left: 50%;z-index: 0;}#sk-container-id-1 div.sk-serial {display: flex;flex-direction: column;align-items: center;background-color: white;padding-right: 0.2em;padding-left: 0.2em;position: relative;}#sk-container-id-1 div.sk-item {position: relative;z-index: 1;}#sk-container-id-1 div.sk-parallel {display: flex;align-items: stretch;justify-content: center;background-color: white;position: relative;}#sk-container-id-1 div.sk-item::before, #sk-container-id-1 div.sk-parallel-item::before {content: \"\";position: absolute;border-left: 1px solid gray;box-sizing: border-box;top: 0;bottom: 0;left: 50%;z-index: -1;}#sk-container-id-1 div.sk-parallel-item {display: flex;flex-direction: column;z-index: 1;position: relative;background-color: white;}#sk-container-id-1 div.sk-parallel-item:first-child::after {align-self: flex-end;width: 50%;}#sk-container-id-1 div.sk-parallel-item:last-child::after {align-self: flex-start;width: 50%;}#sk-container-id-1 div.sk-parallel-item:only-child::after {width: 0;}#sk-container-id-1 div.sk-dashed-wrapped {border: 1px dashed gray;margin: 0 0.4em 0.5em 0.4em;box-sizing: border-box;padding-bottom: 0.4em;background-color: white;}#sk-container-id-1 div.sk-label label {font-family: monospace;font-weight: bold;display: inline-block;line-height: 1.2em;}#sk-container-id-1 div.sk-label-container {text-align: center;}#sk-container-id-1 div.sk-container {/* jupyter's `normalize.less` sets `[hidden] { display: none; }` but bootstrap.min.css set `[hidden] { display: none !important; }` so we also need the `!important` here to be able to override the default hidden behavior on the sphinx rendered scikit-learn.org. See: https://github.com/scikit-learn/scikit-learn/issues/21755 */display: inline-block !important;position: relative;}#sk-container-id-1 div.sk-text-repr-fallback {display: none;}</style><div id=\"sk-container-id-1\" class=\"sk-top-container\"><div class=\"sk-text-repr-fallback\"><pre>Ridge(alpha=0.1)</pre><b>In a Jupyter environment, please rerun this cell to show the HTML representation or trust the notebook. <br />On GitHub, the HTML representation is unable to render, please try loading this page with nbviewer.org.</b></div><div class=\"sk-container\" hidden><div class=\"sk-item\"><div class=\"sk-estimator sk-toggleable\"><input class=\"sk-toggleable__control sk-hidden--visually\" id=\"sk-estimator-id-1\" type=\"checkbox\" checked><label for=\"sk-estimator-id-1\" class=\"sk-toggleable__label sk-toggleable__label-arrow\">Ridge</label><div class=\"sk-toggleable__content\"><pre>Ridge(alpha=0.1)</pre></div></div></div></div></div>"
      ],
      "text/plain": [
       "Ridge(alpha=0.1)"
      ]
     },
     "execution_count": 32,
     "metadata": {},
     "output_type": "execute_result"
    }
   ],
   "source": [
    "RigeModel.fit(x_train, y_train)"
   ]
  },
  {
   "cell_type": "markdown",
   "id": "6bc12b13",
   "metadata": {
    "papermill": {
     "duration": 0.026373,
     "end_time": "2024-04-22T15:02:15.573115",
     "exception": false,
     "start_time": "2024-04-22T15:02:15.546742",
     "status": "completed"
    },
    "tags": []
   },
   "source": [
    "Similarly, you can obtain a prediction:\n"
   ]
  },
  {
   "cell_type": "code",
   "execution_count": 33,
   "id": "7f4a40ef",
   "metadata": {
    "execution": {
     "iopub.execute_input": "2024-04-22T15:02:15.628227Z",
     "iopub.status.busy": "2024-04-22T15:02:15.627866Z",
     "iopub.status.idle": "2024-04-22T15:02:15.637107Z",
     "shell.execute_reply": "2024-04-22T15:02:15.635649Z"
    },
    "papermill": {
     "duration": 0.041374,
     "end_time": "2024-04-22T15:02:15.641439",
     "exception": false,
     "start_time": "2024-04-22T15:02:15.600065",
     "status": "completed"
    },
    "tags": []
   },
   "outputs": [],
   "source": [
    "yhat = RigeModel.predict(x_test)"
   ]
  },
  {
   "cell_type": "code",
   "execution_count": 34,
   "id": "066179a5",
   "metadata": {
    "execution": {
     "iopub.execute_input": "2024-04-22T15:02:15.756148Z",
     "iopub.status.busy": "2024-04-22T15:02:15.755665Z",
     "iopub.status.idle": "2024-04-22T15:02:15.762910Z",
     "shell.execute_reply": "2024-04-22T15:02:15.761333Z"
    },
    "papermill": {
     "duration": 0.068403,
     "end_time": "2024-04-22T15:02:15.765452",
     "exception": false,
     "start_time": "2024-04-22T15:02:15.697049",
     "status": "completed"
    },
    "tags": []
   },
   "outputs": [
    {
     "name": "stdout",
     "output_type": "stream",
     "text": [
      "0.303495187905763\n"
     ]
    }
   ],
   "source": [
    "print(r2_score(yhat, y_test))"
   ]
  },
  {
   "cell_type": "markdown",
   "id": "3e616c2d",
   "metadata": {
    "papermill": {
     "duration": 0.026846,
     "end_time": "2024-04-22T15:02:15.818821",
     "exception": false,
     "start_time": "2024-04-22T15:02:15.791975",
     "status": "completed"
    },
    "tags": []
   },
   "source": [
    "polynomial degree=2"
   ]
  },
  {
   "cell_type": "code",
   "execution_count": 35,
   "id": "7297bac0",
   "metadata": {
    "execution": {
     "iopub.execute_input": "2024-04-22T15:02:15.875107Z",
     "iopub.status.busy": "2024-04-22T15:02:15.874670Z",
     "iopub.status.idle": "2024-04-22T15:02:16.120494Z",
     "shell.execute_reply": "2024-04-22T15:02:16.118647Z"
    },
    "papermill": {
     "duration": 0.278304,
     "end_time": "2024-04-22T15:02:16.124692",
     "exception": false,
     "start_time": "2024-04-22T15:02:15.846388",
     "status": "completed"
    },
    "tags": []
   },
   "outputs": [
    {
     "name": "stdout",
     "output_type": "stream",
     "text": [
      "R^2 score: 0.6890328209409049\n"
     ]
    }
   ],
   "source": [
    "pr1=PolynomialFeatures(degree=2)\n",
    "x_train_pr1=pr1.fit_transform(x_train)\n",
    "x_test_pr1=pr1.fit_transform(x_test)\n",
    "RigeModel.fit(x_train_pr1, y_train)\n",
    "yhat2 = RigeModel.predict(x_test_pr1)\n",
    "r_squared = r2_score(y_test, yhat2)\n",
    "print(\"R^2 score:\", r_squared)\n"
   ]
  },
  {
   "cell_type": "markdown",
   "id": "7e0cae81",
   "metadata": {
    "papermill": {
     "duration": 0.029429,
     "end_time": "2024-04-22T15:02:16.253247",
     "exception": false,
     "start_time": "2024-04-22T15:02:16.223818",
     "status": "completed"
    },
    "tags": []
   },
   "source": [
    "Let's compare the first five predicted samples to our test set:\n"
   ]
  },
  {
   "cell_type": "code",
   "execution_count": 36,
   "id": "a36cf944",
   "metadata": {
    "execution": {
     "iopub.execute_input": "2024-04-22T15:02:16.306698Z",
     "iopub.status.busy": "2024-04-22T15:02:16.306267Z",
     "iopub.status.idle": "2024-04-22T15:02:16.887155Z",
     "shell.execute_reply": "2024-04-22T15:02:16.886301Z"
    },
    "papermill": {
     "duration": 0.610903,
     "end_time": "2024-04-22T15:02:16.890032",
     "exception": false,
     "start_time": "2024-04-22T15:02:16.279129",
     "status": "completed"
    },
    "tags": []
   },
   "outputs": [
    {
     "name": "stderr",
     "output_type": "stream",
     "text": [
      "/opt/conda/lib/python3.10/site-packages/seaborn/_oldcore.py:1119: FutureWarning: use_inf_as_na option is deprecated and will be removed in a future version. Convert inf values to NaN before operating instead.\n",
      "  with pd.option_context('mode.use_inf_as_na', True):\n",
      "/opt/conda/lib/python3.10/site-packages/seaborn/_oldcore.py:1119: FutureWarning: use_inf_as_na option is deprecated and will be removed in a future version. Convert inf values to NaN before operating instead.\n",
      "  with pd.option_context('mode.use_inf_as_na', True):\n"
     ]
    },
    {
     "data": {
      "image/png": "[encoded data removed]",
      "text/plain": [
       "<Figure size 1400x1400 with 1 Axes>"
      ]
     },
     "metadata": {},
     "output_type": "display_data"
    }
   ],
   "source": [
    "Title='Distribution  Plot of  Predicted Value Using Test Data vs Data Distribution of Test Data'\n",
    "\n",
    "DistributionPlot(y_test, yhat2, \"Actual Values (Test)\", \"Predicted Values (Test)\", Title)"
   ]
  }
 ],
 "metadata": {
  "kaggle": {
   "accelerator": "none",
   "dataSources": [
    {
     "datasetId": 128,
     "sourceId": 270,
     "sourceType": "datasetVersion"
    }
   ],
   "dockerImageVersionId": 30684,
   "isGpuEnabled": false,
   "isInternetEnabled": false,
   "language": "python",
   "sourceType": "notebook"
  },
  "kernelspec": {
   "display_name": "Python 3",
   "language": "python",
   "name": "python3"
  },
  "language_info": {
   "codemirror_mode": {
    "name": "ipython",
    "version": 3
   },
   "file_extension": ".py",
   "mimetype": "text/x-python",
   "name": "python",
   "nbconvert_exporter": "python",
   "pygments_lexer": "ipython3",
   "version": "3.10.13"
  },
  "papermill": {
   "default_parameters": {},
   "duration": 16.630075,
   "end_time": "2024-04-22T15:02:17.842220",
   "environment_variables": {},
   "exception": null,
   "input_path": "__notebook__.ipynb",
   "output_path": "__notebook__.ipynb",
   "parameters": {},
   "start_time": "2024-04-22T15:02:01.212145",
   "version": "2.5.0"
  }
 },
 "nbformat": 4,
 "nbformat_minor": 5
}
